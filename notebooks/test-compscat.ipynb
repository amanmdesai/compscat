{
 "cells": [
  {
   "cell_type": "code",
   "execution_count": null,
   "id": "8cff9499",
   "metadata": {},
   "outputs": [],
   "source": [
    "from compscat import CrossSection, SaveEvent, constants, PlotData"
   ]
  },
  {
   "cell_type": "code",
   "execution_count": null,
   "id": "166f6275",
   "metadata": {},
   "outputs": [],
   "source": [
    "E = 0.1"
   ]
  },
  {
   "cell_type": "code",
   "execution_count": null,
   "id": "50309730",
   "metadata": {},
   "outputs": [],
   "source": [
    "w_sum, w_square, w_max = CrossSection(E / constants.m).integrate_xsec()"
   ]
  },
  {
   "cell_type": "code",
   "execution_count": null,
   "id": "4eb7ffd9",
   "metadata": {},
   "outputs": [],
   "source": [
    "SaveEvent(10000, w_max, E).to_root()\n",
    "SaveEvent(10000, w_max, E).to_csv()"
   ]
  },
  {
   "cell_type": "code",
   "execution_count": null,
   "id": "8fa05206",
   "metadata": {},
   "outputs": [],
   "source": [
    "PlotData.file(\"MC_compton.root\")"
   ]
  },
  {
   "cell_type": "code",
   "execution_count": null,
   "id": "487b8d40",
   "metadata": {},
   "outputs": [],
   "source": [
    "PlotData.file(\"MC_compton.csv\")"
   ]
  }
 ],
 "metadata": {
  "kernelspec": {
   "display_name": "Python 3 (ipykernel)",
   "language": "python",
   "name": "python3"
  },
  "language_info": {
   "codemirror_mode": {
    "name": "ipython",
    "version": 3
   },
   "file_extension": ".py",
   "mimetype": "text/x-python",
   "name": "python",
   "nbconvert_exporter": "python",
   "pygments_lexer": "ipython3",
   "version": "3.10.6"
  }
 },
 "nbformat": 4,
 "nbformat_minor": 5
}
