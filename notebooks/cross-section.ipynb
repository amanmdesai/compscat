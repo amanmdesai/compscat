{
 "cells": [
  {
   "cell_type": "code",
   "execution_count": null,
   "id": "52443378",
   "metadata": {},
   "outputs": [],
   "source": [
    "from compscat import CrossSection, SaveEvent, constants, PlotData\n",
    "import math\n",
    "import numpy as np\n",
    "import matplotlib.pyplot as plt"
   ]
  },
  {
   "cell_type": "code",
   "execution_count": null,
   "id": "d8ed1d67",
   "metadata": {},
   "outputs": [],
   "source": [
    "Energies = [0.05, 0.1, 0.2, 0.3, 0.4, 0.5]\n",
    "N = 1000000\n",
    "sigma_x_array = np.zeros(6)\n",
    "errors = np.zeros(6)\n",
    "i = 0\n",
    "for E in Energies:\n",
    "    w_sum, w_square, w_max = CrossSection(E / constants.m).integrate_xsec(N)\n",
    "\n",
    "    # print(constants.convert)\n",
    "\n",
    "    sigma_x = w_sum * constants.convert / (N * 1e12)\n",
    "\n",
    "    variance = math.sqrt(w_square / N - (w_sum / N) ** 2)\n",
    "    error = variance * constants.convert / (math.sqrt(N) * 1e12)\n",
    "    print(E, \"$\", f\"{sigma_x*1000:,.3f}\", \"$\\pm$\", f\"{error*1000:,.4f}\", \"$\")\n",
    "    sigma_x_array[i] = sigma_x * 1000\n",
    "    errors[i] = error * 1000\n",
    "    i += 1"
   ]
  },
  {
   "cell_type": "code",
   "execution_count": null,
   "id": "9d3d3c63",
   "metadata": {},
   "outputs": [],
   "source": [
    "## results from madgraph\n",
    "\n",
    "sigma_mg5 = [15.57, 8.799, 4.87, 3.43, 2.664, 2.203]\n",
    "fig, ax = plt.subplots(figsize=(3, 3), dpi=300)\n",
    "ax.set_title(\"Cross Section vs Energies\")\n",
    "ax.plot(\n",
    "    Energies,\n",
    "    sigma_x_array,\n",
    "    linestyle=\":\",\n",
    "    label=\"CompScat\",\n",
    "    marker=\"o\",\n",
    "    color=\"blue\",\n",
    "    alpha=0.8,\n",
    ")\n",
    "ax.plot(\n",
    "    Energies, sigma_mg5, label=\"Madgraph\", marker=\"o\", color=\"lightgreen\", alpha=0.5\n",
    ")\n",
    "ax.set_xlabel(\"Energy [GeV]\")\n",
    "ax.set_ylabel(\"Cross Section (milibarn)\")\n",
    "ax.legend()"
   ]
  },
  {
   "cell_type": "code",
   "execution_count": null,
   "id": "bc4a3354",
   "metadata": {},
   "outputs": [],
   "source": [
    "## results from madgraph\n",
    "\n",
    "sigma_mg5 = [15.57, 8.799, 4.87, 3.43, 2.664, 2.203]\n",
    "error_mg5 = [0.037, 0.028, 0.019, 0.0081, 0.0051, 0.0044]\n",
    "fig, ax = plt.subplots(figsize=(5, 5), dpi=300)\n",
    "ax.set_title(\"Cross Section vs Energies\")\n",
    "ax.errorbar(\n",
    "    Energies,\n",
    "    sigma_x_array,\n",
    "    yerr=errors,\n",
    "    linestyle=\":\",\n",
    "    label=\"CompScat\",\n",
    "    marker=\"o\",\n",
    "    color=\"blue\",\n",
    "    alpha=0.8,\n",
    ")\n",
    "ax.errorbar(\n",
    "    Energies,\n",
    "    sigma_mg5,\n",
    "    yerr=error_mg5,\n",
    "    label=\"Madgraph\",\n",
    "    marker=\"o\",\n",
    "    color=\"lightgreen\",\n",
    "    alpha=0.5,\n",
    ")\n",
    "ax.set_xlabel(\"Energy [GeV]\")\n",
    "ax.set_ylabel(\"Cross Section (milibarn)\")\n",
    "ax.legend()\n",
    "plt.savefig(\"xsec_vs_energy.jpg\", dpi=150)"
   ]
  }
 ],
 "metadata": {
  "kernelspec": {
   "display_name": "Python 3 (ipykernel)",
   "language": "python",
   "name": "python3"
  },
  "language_info": {
   "codemirror_mode": {
    "name": "ipython",
    "version": 3
   },
   "file_extension": ".py",
   "mimetype": "text/x-python",
   "name": "python",
   "nbconvert_exporter": "python",
   "pygments_lexer": "ipython3",
   "version": "3.10.6"
  }
 },
 "nbformat": 4,
 "nbformat_minor": 5
}
